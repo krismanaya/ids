{
 "cells": [
  {
   "cell_type": "code",
   "execution_count": 87,
   "metadata": {
    "collapsed": true
   },
   "outputs": [],
   "source": [
    "import json \n",
    "import networkx as nx\n",
    "import numpy as np\n",
    "import pandas as pd"
   ]
  },
  {
   "cell_type": "code",
   "execution_count": 3,
   "metadata": {
    "collapsed": false
   },
   "outputs": [],
   "source": [
    "f = open('venmo-trans.txt')"
   ]
  },
  {
   "cell_type": "code",
   "execution_count": 4,
   "metadata": {
    "collapsed": true
   },
   "outputs": [],
   "source": [
    "m = []\n",
    "for line in f: \n",
    "    m.append(json.loads(line))"
   ]
  },
  {
   "cell_type": "code",
   "execution_count": 5,
   "metadata": {
    "collapsed": false
   },
   "outputs": [],
   "source": [
    "d = pd.DataFrame(m)"
   ]
  },
  {
   "cell_type": "code",
   "execution_count": 6,
   "metadata": {
    "collapsed": true
   },
   "outputs": [],
   "source": [
    "d['created_time'] = pd.to_datetime(d['created_time'])"
   ]
  },
  {
   "cell_type": "code",
   "execution_count": 86,
   "metadata": {
    "collapsed": false
   },
   "outputs": [
    {
     "data": {
      "text/html": [
       "<div>\n",
       "<table border=\"1\" class=\"dataframe\">\n",
       "  <thead>\n",
       "    <tr style=\"text-align: right;\">\n",
       "      <th></th>\n",
       "      <th>actor</th>\n",
       "      <th>created_time</th>\n",
       "      <th>target</th>\n",
       "    </tr>\n",
       "  </thead>\n",
       "  <tbody>\n",
       "    <tr>\n",
       "      <th>0</th>\n",
       "      <td>Amber-Sauer</td>\n",
       "      <td>2016-03-28 23:23:12</td>\n",
       "      <td>Raffi-Antilian</td>\n",
       "    </tr>\n",
       "    <tr>\n",
       "      <th>1</th>\n",
       "      <td>Amber-Sauer</td>\n",
       "      <td>2016-03-28 23:23:12</td>\n",
       "      <td>Caroline-Kaiser-2</td>\n",
       "    </tr>\n",
       "    <tr>\n",
       "      <th>2</th>\n",
       "      <td>Amber-Sauer</td>\n",
       "      <td>2016-03-28 23:23:12</td>\n",
       "      <td>charlotte-macfarlane</td>\n",
       "    </tr>\n",
       "    <tr>\n",
       "      <th>3</th>\n",
       "      <td>Raffi-Antilian</td>\n",
       "      <td>2016-03-28 23:23:12</td>\n",
       "      <td>Caroline-Kaiser-2</td>\n",
       "    </tr>\n",
       "    <tr>\n",
       "      <th>4</th>\n",
       "      <td>Raffi-Antilian</td>\n",
       "      <td>2016-03-28 23:23:12</td>\n",
       "      <td>charlotte-macfarlane</td>\n",
       "    </tr>\n",
       "    <tr>\n",
       "      <th>5</th>\n",
       "      <td>Caroline-Kaiser-2</td>\n",
       "      <td>2016-03-28 23:23:12</td>\n",
       "      <td>charlotte-macfarlane</td>\n",
       "    </tr>\n",
       "    <tr>\n",
       "      <th>6</th>\n",
       "      <td>Trong-Dang</td>\n",
       "      <td>2016-03-28 23:23:12</td>\n",
       "      <td>Lizzy-Smith-5</td>\n",
       "    </tr>\n",
       "    <tr>\n",
       "      <th>7</th>\n",
       "      <td>Trong-Dang</td>\n",
       "      <td>2016-03-28 23:23:12</td>\n",
       "      <td>Caroline-Kaiser-2</td>\n",
       "    </tr>\n",
       "    <tr>\n",
       "      <th>8</th>\n",
       "      <td>Trong-Dang</td>\n",
       "      <td>2016-03-28 23:23:12</td>\n",
       "      <td>charlotte-macfarlane</td>\n",
       "    </tr>\n",
       "    <tr>\n",
       "      <th>9</th>\n",
       "      <td>Lizzy-Smith-5</td>\n",
       "      <td>2016-03-28 23:23:12</td>\n",
       "      <td>Caroline-Kaiser-2</td>\n",
       "    </tr>\n",
       "    <tr>\n",
       "      <th>10</th>\n",
       "      <td>Lizzy-Smith-5</td>\n",
       "      <td>2016-03-28 23:23:12</td>\n",
       "      <td>charlotte-macfarlane</td>\n",
       "    </tr>\n",
       "    <tr>\n",
       "      <th>11</th>\n",
       "      <td>Caroline-Kaiser-2</td>\n",
       "      <td>2016-03-28 23:23:12</td>\n",
       "      <td>charlotte-macfarlane</td>\n",
       "    </tr>\n",
       "    <tr>\n",
       "      <th>12</th>\n",
       "      <td>Megan-Braverman</td>\n",
       "      <td>2016-03-28 23:23:12</td>\n",
       "      <td>Ricardo-Lach</td>\n",
       "    </tr>\n",
       "    <tr>\n",
       "      <th>13</th>\n",
       "      <td>Megan-Braverman</td>\n",
       "      <td>2016-03-28 23:23:12</td>\n",
       "      <td>Caroline-Kaiser-2</td>\n",
       "    </tr>\n",
       "    <tr>\n",
       "      <th>14</th>\n",
       "      <td>Megan-Braverman</td>\n",
       "      <td>2016-03-28 23:23:12</td>\n",
       "      <td>charlotte-macfarlane</td>\n",
       "    </tr>\n",
       "    <tr>\n",
       "      <th>15</th>\n",
       "      <td>Megan-Braverman</td>\n",
       "      <td>2016-03-28 23:23:12</td>\n",
       "      <td>Joey-Feste</td>\n",
       "    </tr>\n",
       "    <tr>\n",
       "      <th>16</th>\n",
       "      <td>Megan-Braverman</td>\n",
       "      <td>2016-03-28 23:23:12</td>\n",
       "      <td>Cary-Gitter</td>\n",
       "    </tr>\n",
       "    <tr>\n",
       "      <th>17</th>\n",
       "      <td>Ricardo-Lach</td>\n",
       "      <td>2016-03-28 23:23:12</td>\n",
       "      <td>Caroline-Kaiser-2</td>\n",
       "    </tr>\n",
       "    <tr>\n",
       "      <th>18</th>\n",
       "      <td>Ricardo-Lach</td>\n",
       "      <td>2016-03-28 23:23:12</td>\n",
       "      <td>charlotte-macfarlane</td>\n",
       "    </tr>\n",
       "    <tr>\n",
       "      <th>19</th>\n",
       "      <td>Ricardo-Lach</td>\n",
       "      <td>2016-03-28 23:23:12</td>\n",
       "      <td>Joey-Feste</td>\n",
       "    </tr>\n",
       "    <tr>\n",
       "      <th>20</th>\n",
       "      <td>Ricardo-Lach</td>\n",
       "      <td>2016-03-28 23:23:12</td>\n",
       "      <td>Cary-Gitter</td>\n",
       "    </tr>\n",
       "    <tr>\n",
       "      <th>21</th>\n",
       "      <td>Caroline-Kaiser-2</td>\n",
       "      <td>2016-03-28 23:23:12</td>\n",
       "      <td>charlotte-macfarlane</td>\n",
       "    </tr>\n",
       "    <tr>\n",
       "      <th>22</th>\n",
       "      <td>Caroline-Kaiser-2</td>\n",
       "      <td>2016-03-28 23:23:12</td>\n",
       "      <td>Joey-Feste</td>\n",
       "    </tr>\n",
       "    <tr>\n",
       "      <th>23</th>\n",
       "      <td>Caroline-Kaiser-2</td>\n",
       "      <td>2016-03-28 23:23:12</td>\n",
       "      <td>Cary-Gitter</td>\n",
       "    </tr>\n",
       "    <tr>\n",
       "      <th>24</th>\n",
       "      <td>charlotte-macfarlane</td>\n",
       "      <td>2016-03-28 23:23:12</td>\n",
       "      <td>Joey-Feste</td>\n",
       "    </tr>\n",
       "    <tr>\n",
       "      <th>25</th>\n",
       "      <td>charlotte-macfarlane</td>\n",
       "      <td>2016-03-28 23:23:12</td>\n",
       "      <td>Cary-Gitter</td>\n",
       "    </tr>\n",
       "    <tr>\n",
       "      <th>26</th>\n",
       "      <td>Joey-Feste</td>\n",
       "      <td>2016-03-28 23:23:12</td>\n",
       "      <td>Cary-Gitter</td>\n",
       "    </tr>\n",
       "    <tr>\n",
       "      <th>27</th>\n",
       "      <td>Lexi-Romanchuk</td>\n",
       "      <td>2016-03-28 23:23:12</td>\n",
       "      <td>Nelida-Mendoza</td>\n",
       "    </tr>\n",
       "    <tr>\n",
       "      <th>28</th>\n",
       "      <td>Tallulah-Daly</td>\n",
       "      <td>2016-03-28 23:23:12</td>\n",
       "      <td>Ricardo-Lach</td>\n",
       "    </tr>\n",
       "    <tr>\n",
       "      <th>29</th>\n",
       "      <td>Tallulah-Daly</td>\n",
       "      <td>2016-03-28 23:23:12</td>\n",
       "      <td>andres-camacho</td>\n",
       "    </tr>\n",
       "    <tr>\n",
       "      <th>...</th>\n",
       "      <td>...</td>\n",
       "      <td>...</td>\n",
       "      <td>...</td>\n",
       "    </tr>\n",
       "    <tr>\n",
       "      <th>1762</th>\n",
       "      <td>Claudia-Santander</td>\n",
       "      <td>2016-03-29 06:04:50</td>\n",
       "      <td>Karo-Hernandez</td>\n",
       "    </tr>\n",
       "    <tr>\n",
       "      <th>1763</th>\n",
       "      <td>Claudia-Santander</td>\n",
       "      <td>2016-03-29 06:04:50</td>\n",
       "      <td>Tyler-Shaul</td>\n",
       "    </tr>\n",
       "    <tr>\n",
       "      <th>1764</th>\n",
       "      <td>Johnny-Meeth</td>\n",
       "      <td>2016-03-29 06:04:50</td>\n",
       "      <td>Karo-Hernandez</td>\n",
       "    </tr>\n",
       "    <tr>\n",
       "      <th>1765</th>\n",
       "      <td>Johnny-Meeth</td>\n",
       "      <td>2016-03-29 06:04:50</td>\n",
       "      <td>Tyler-Shaul</td>\n",
       "    </tr>\n",
       "    <tr>\n",
       "      <th>1766</th>\n",
       "      <td>Karo-Hernandez</td>\n",
       "      <td>2016-03-29 06:04:50</td>\n",
       "      <td>Tyler-Shaul</td>\n",
       "    </tr>\n",
       "    <tr>\n",
       "      <th>1767</th>\n",
       "      <td>kellyryanxo</td>\n",
       "      <td>2016-03-29 06:04:50</td>\n",
       "      <td>Andrew-Duff-2</td>\n",
       "    </tr>\n",
       "    <tr>\n",
       "      <th>1768</th>\n",
       "      <td>kellyryanxo</td>\n",
       "      <td>2016-03-29 06:04:50</td>\n",
       "      <td>Gianna-Scimeca</td>\n",
       "    </tr>\n",
       "    <tr>\n",
       "      <th>1769</th>\n",
       "      <td>Andrew-Duff-2</td>\n",
       "      <td>2016-03-29 06:04:50</td>\n",
       "      <td>Gianna-Scimeca</td>\n",
       "    </tr>\n",
       "    <tr>\n",
       "      <th>1770</th>\n",
       "      <td>Siri-Yellamraju</td>\n",
       "      <td>2016-03-29 06:04:50</td>\n",
       "      <td>Yura-Choung</td>\n",
       "    </tr>\n",
       "    <tr>\n",
       "      <th>1771</th>\n",
       "      <td>Siri-Yellamraju</td>\n",
       "      <td>2016-03-29 06:04:50</td>\n",
       "      <td>Yiting-Cheng-1</td>\n",
       "    </tr>\n",
       "    <tr>\n",
       "      <th>1772</th>\n",
       "      <td>Yura-Choung</td>\n",
       "      <td>2016-03-29 06:04:50</td>\n",
       "      <td>Yiting-Cheng-1</td>\n",
       "    </tr>\n",
       "    <tr>\n",
       "      <th>1773</th>\n",
       "      <td>RebeccaMendelsohn</td>\n",
       "      <td>2016-03-29 06:04:51</td>\n",
       "      <td>grtaus</td>\n",
       "    </tr>\n",
       "    <tr>\n",
       "      <th>1774</th>\n",
       "      <td>Maggie-Smith-12</td>\n",
       "      <td>2016-03-29 06:04:51</td>\n",
       "      <td>Caroline-Kaiser-2</td>\n",
       "    </tr>\n",
       "    <tr>\n",
       "      <th>1775</th>\n",
       "      <td>Maggie-Smith-12</td>\n",
       "      <td>2016-03-29 06:04:51</td>\n",
       "      <td>Landon_Hood</td>\n",
       "    </tr>\n",
       "    <tr>\n",
       "      <th>1776</th>\n",
       "      <td>Maggie-Smith-12</td>\n",
       "      <td>2016-03-29 06:04:51</td>\n",
       "      <td>joedavis04</td>\n",
       "    </tr>\n",
       "    <tr>\n",
       "      <th>1777</th>\n",
       "      <td>Maggie-Smith-12</td>\n",
       "      <td>2016-03-29 06:04:51</td>\n",
       "      <td>charlotte-macfarlane</td>\n",
       "    </tr>\n",
       "    <tr>\n",
       "      <th>1778</th>\n",
       "      <td>Maggie-Smith-12</td>\n",
       "      <td>2016-03-29 06:04:51</td>\n",
       "      <td>Joey-Feste</td>\n",
       "    </tr>\n",
       "    <tr>\n",
       "      <th>1779</th>\n",
       "      <td>Caroline-Kaiser-2</td>\n",
       "      <td>2016-03-29 06:04:51</td>\n",
       "      <td>Landon_Hood</td>\n",
       "    </tr>\n",
       "    <tr>\n",
       "      <th>1780</th>\n",
       "      <td>Caroline-Kaiser-2</td>\n",
       "      <td>2016-03-29 06:04:51</td>\n",
       "      <td>joedavis04</td>\n",
       "    </tr>\n",
       "    <tr>\n",
       "      <th>1781</th>\n",
       "      <td>Caroline-Kaiser-2</td>\n",
       "      <td>2016-03-29 06:04:51</td>\n",
       "      <td>charlotte-macfarlane</td>\n",
       "    </tr>\n",
       "    <tr>\n",
       "      <th>1782</th>\n",
       "      <td>Caroline-Kaiser-2</td>\n",
       "      <td>2016-03-29 06:04:51</td>\n",
       "      <td>Joey-Feste</td>\n",
       "    </tr>\n",
       "    <tr>\n",
       "      <th>1783</th>\n",
       "      <td>Landon_Hood</td>\n",
       "      <td>2016-03-29 06:04:51</td>\n",
       "      <td>joedavis04</td>\n",
       "    </tr>\n",
       "    <tr>\n",
       "      <th>1784</th>\n",
       "      <td>Landon_Hood</td>\n",
       "      <td>2016-03-29 06:04:51</td>\n",
       "      <td>charlotte-macfarlane</td>\n",
       "    </tr>\n",
       "    <tr>\n",
       "      <th>1785</th>\n",
       "      <td>Landon_Hood</td>\n",
       "      <td>2016-03-29 06:04:51</td>\n",
       "      <td>Joey-Feste</td>\n",
       "    </tr>\n",
       "    <tr>\n",
       "      <th>1786</th>\n",
       "      <td>joedavis04</td>\n",
       "      <td>2016-03-29 06:04:51</td>\n",
       "      <td>charlotte-macfarlane</td>\n",
       "    </tr>\n",
       "    <tr>\n",
       "      <th>1787</th>\n",
       "      <td>joedavis04</td>\n",
       "      <td>2016-03-29 06:04:51</td>\n",
       "      <td>Joey-Feste</td>\n",
       "    </tr>\n",
       "    <tr>\n",
       "      <th>1788</th>\n",
       "      <td>charlotte-macfarlane</td>\n",
       "      <td>2016-03-29 06:04:51</td>\n",
       "      <td>Joey-Feste</td>\n",
       "    </tr>\n",
       "    <tr>\n",
       "      <th>1789</th>\n",
       "      <td>Travis-Norris</td>\n",
       "      <td>2016-03-29 06:04:49</td>\n",
       "      <td>Lizzie-Friend</td>\n",
       "    </tr>\n",
       "    <tr>\n",
       "      <th>1790</th>\n",
       "      <td>Travis-Norris</td>\n",
       "      <td>2016-03-29 06:04:49</td>\n",
       "      <td>Rachelmanning_</td>\n",
       "    </tr>\n",
       "    <tr>\n",
       "      <th>1791</th>\n",
       "      <td>Lizzie-Friend</td>\n",
       "      <td>2016-03-29 06:04:49</td>\n",
       "      <td>Rachelmanning_</td>\n",
       "    </tr>\n",
       "  </tbody>\n",
       "</table>\n",
       "<p>1792 rows × 3 columns</p>\n",
       "</div>"
      ],
      "text/plain": [
       "                     actor        created_time                target\n",
       "0              Amber-Sauer 2016-03-28 23:23:12        Raffi-Antilian\n",
       "1              Amber-Sauer 2016-03-28 23:23:12     Caroline-Kaiser-2\n",
       "2              Amber-Sauer 2016-03-28 23:23:12  charlotte-macfarlane\n",
       "3           Raffi-Antilian 2016-03-28 23:23:12     Caroline-Kaiser-2\n",
       "4           Raffi-Antilian 2016-03-28 23:23:12  charlotte-macfarlane\n",
       "5        Caroline-Kaiser-2 2016-03-28 23:23:12  charlotte-macfarlane\n",
       "6               Trong-Dang 2016-03-28 23:23:12         Lizzy-Smith-5\n",
       "7               Trong-Dang 2016-03-28 23:23:12     Caroline-Kaiser-2\n",
       "8               Trong-Dang 2016-03-28 23:23:12  charlotte-macfarlane\n",
       "9            Lizzy-Smith-5 2016-03-28 23:23:12     Caroline-Kaiser-2\n",
       "10           Lizzy-Smith-5 2016-03-28 23:23:12  charlotte-macfarlane\n",
       "11       Caroline-Kaiser-2 2016-03-28 23:23:12  charlotte-macfarlane\n",
       "12         Megan-Braverman 2016-03-28 23:23:12          Ricardo-Lach\n",
       "13         Megan-Braverman 2016-03-28 23:23:12     Caroline-Kaiser-2\n",
       "14         Megan-Braverman 2016-03-28 23:23:12  charlotte-macfarlane\n",
       "15         Megan-Braverman 2016-03-28 23:23:12            Joey-Feste\n",
       "16         Megan-Braverman 2016-03-28 23:23:12           Cary-Gitter\n",
       "17            Ricardo-Lach 2016-03-28 23:23:12     Caroline-Kaiser-2\n",
       "18            Ricardo-Lach 2016-03-28 23:23:12  charlotte-macfarlane\n",
       "19            Ricardo-Lach 2016-03-28 23:23:12            Joey-Feste\n",
       "20            Ricardo-Lach 2016-03-28 23:23:12           Cary-Gitter\n",
       "21       Caroline-Kaiser-2 2016-03-28 23:23:12  charlotte-macfarlane\n",
       "22       Caroline-Kaiser-2 2016-03-28 23:23:12            Joey-Feste\n",
       "23       Caroline-Kaiser-2 2016-03-28 23:23:12           Cary-Gitter\n",
       "24    charlotte-macfarlane 2016-03-28 23:23:12            Joey-Feste\n",
       "25    charlotte-macfarlane 2016-03-28 23:23:12           Cary-Gitter\n",
       "26              Joey-Feste 2016-03-28 23:23:12           Cary-Gitter\n",
       "27          Lexi-Romanchuk 2016-03-28 23:23:12        Nelida-Mendoza\n",
       "28           Tallulah-Daly 2016-03-28 23:23:12          Ricardo-Lach\n",
       "29           Tallulah-Daly 2016-03-28 23:23:12        andres-camacho\n",
       "...                    ...                 ...                   ...\n",
       "1762     Claudia-Santander 2016-03-29 06:04:50        Karo-Hernandez\n",
       "1763     Claudia-Santander 2016-03-29 06:04:50           Tyler-Shaul\n",
       "1764          Johnny-Meeth 2016-03-29 06:04:50        Karo-Hernandez\n",
       "1765          Johnny-Meeth 2016-03-29 06:04:50           Tyler-Shaul\n",
       "1766        Karo-Hernandez 2016-03-29 06:04:50           Tyler-Shaul\n",
       "1767           kellyryanxo 2016-03-29 06:04:50         Andrew-Duff-2\n",
       "1768           kellyryanxo 2016-03-29 06:04:50        Gianna-Scimeca\n",
       "1769         Andrew-Duff-2 2016-03-29 06:04:50        Gianna-Scimeca\n",
       "1770       Siri-Yellamraju 2016-03-29 06:04:50           Yura-Choung\n",
       "1771       Siri-Yellamraju 2016-03-29 06:04:50        Yiting-Cheng-1\n",
       "1772           Yura-Choung 2016-03-29 06:04:50        Yiting-Cheng-1\n",
       "1773     RebeccaMendelsohn 2016-03-29 06:04:51                grtaus\n",
       "1774       Maggie-Smith-12 2016-03-29 06:04:51     Caroline-Kaiser-2\n",
       "1775       Maggie-Smith-12 2016-03-29 06:04:51           Landon_Hood\n",
       "1776       Maggie-Smith-12 2016-03-29 06:04:51            joedavis04\n",
       "1777       Maggie-Smith-12 2016-03-29 06:04:51  charlotte-macfarlane\n",
       "1778       Maggie-Smith-12 2016-03-29 06:04:51            Joey-Feste\n",
       "1779     Caroline-Kaiser-2 2016-03-29 06:04:51           Landon_Hood\n",
       "1780     Caroline-Kaiser-2 2016-03-29 06:04:51            joedavis04\n",
       "1781     Caroline-Kaiser-2 2016-03-29 06:04:51  charlotte-macfarlane\n",
       "1782     Caroline-Kaiser-2 2016-03-29 06:04:51            Joey-Feste\n",
       "1783           Landon_Hood 2016-03-29 06:04:51            joedavis04\n",
       "1784           Landon_Hood 2016-03-29 06:04:51  charlotte-macfarlane\n",
       "1785           Landon_Hood 2016-03-29 06:04:51            Joey-Feste\n",
       "1786            joedavis04 2016-03-29 06:04:51  charlotte-macfarlane\n",
       "1787            joedavis04 2016-03-29 06:04:51            Joey-Feste\n",
       "1788  charlotte-macfarlane 2016-03-29 06:04:51            Joey-Feste\n",
       "1789         Travis-Norris 2016-03-29 06:04:49         Lizzie-Friend\n",
       "1790         Travis-Norris 2016-03-29 06:04:49        Rachelmanning_\n",
       "1791         Lizzie-Friend 2016-03-29 06:04:49        Rachelmanning_\n",
       "\n",
       "[1792 rows x 3 columns]"
      ]
     },
     "execution_count": 86,
     "metadata": {},
     "output_type": "execute_result"
    }
   ],
   "source": [
    "d"
   ]
  },
  {
   "cell_type": "code",
   "execution_count": 144,
   "metadata": {
    "collapsed": false
   },
   "outputs": [],
   "source": [
    "def TimeStamp(i):\n",
    "    return d['created_time'][0] + pd.Timedelta(minutes = i)"
   ]
  },
  {
   "cell_type": "code",
   "execution_count": 143,
   "metadata": {
    "collapsed": false,
    "scrolled": true
   },
   "outputs": [],
   "source": [
    "def IntersectDataFrame(i): \n",
    "\tBool_Vec_UpperBound = d['created_time'] < TimeStamp(i+1)\n",
    "\tBool_Vec_LowerBound = d['created_time'] >= TimeStamp(i)\n",
    "        print TimeStamp(i)\n",
    "        print TimeStamp(i+1)\n",
    "\treturn d[Bool_Vec_LowerBound][Bool_Vec_UpperBound]\n",
    "\t"
   ]
  },
  {
   "cell_type": "code",
   "execution_count": 145,
   "metadata": {
    "collapsed": false
   },
   "outputs": [],
   "source": [
    "def EdgeList(i): \n",
    "    G = nx.from_pandas_dataframe(IntersectDataFrame(i), 'actor', 'target', ['created_time'])\n",
    "    return G.edges()"
   ]
  },
  {
   "cell_type": "code",
   "execution_count": 81,
   "metadata": {
    "collapsed": false
   },
   "outputs": [],
   "source": [
    "def EdgeListSort(i): \n",
    "    G = nx.from_pandas_dataframe(IntersectDataFrame(i), 'actor', 'target', ['created_time'])\n",
    "    G = sorted(list(G.degree().values()))\n",
    "    return np.median(G)"
   ]
  },
  {
   "cell_type": "code",
   "execution_count": 130,
   "metadata": {
    "collapsed": true
   },
   "outputs": [],
   "source": [
    "def test1(): \n",
    "    test = [{\"created_time\": \"2016-04-07T03:33:19Z\", \"target\": \"Jamie-Korn\", \"actor\": \"Jordan-Gruber\"},]\n",
    "    test = pd.DataFrame(test)\n",
    "    G = nx.from_pandas_dataframe(test, 'actor', 'target', ['created_time'])\n",
    "    for i in G.edges(): \n",
    "        print i\n",
    "    G = sorted(list(G.degree().values()))\n",
    "    print G\n",
    "    return np.median(G)"
   ]
  },
  {
   "cell_type": "code",
   "execution_count": 129,
   "metadata": {
    "collapsed": false
   },
   "outputs": [],
   "source": [
    "def test2(): \n",
    "    test = [{\"created_time\": \"2016-04-07T03:33:19Z\", \"target\": \"Jamie-Korn\", \"actor\": \"Jordan-Gruber\"},\n",
    "          {\"created_time\":\"2016-04-07T03:33:19Z\", 'target': 'Jamie-Korn','actor': 'Maryann-Berry'},]\n",
    "    test = pd.DataFrame(test)\n",
    "    G = nx.from_pandas_dataframe(test, 'actor', 'target', ['created_time'])\n",
    "    for i in G.edges(): \n",
    "        print i\n",
    "    G = sorted(list(G.degree().values()))\n",
    "    print G\n",
    "    return np.median(G)"
   ]
  },
  {
   "cell_type": "code",
   "execution_count": 128,
   "metadata": {
    "collapsed": false
   },
   "outputs": [],
   "source": [
    "def test3(): \n",
    "    test = [{\"created_time\": \"2016-04-07T03:33:19Z\", \"target\": \"Jamie-Korn\", \"actor\": \"Jordan-Gruber\"},\n",
    "          {\"created_time\":\"2016-04-07T03:33:19Z\", 'target': 'Jamie-Korn','actor': 'Maryann-Berry'},\n",
    "          {'created_time': \"2016-04-07T03:33:19Z\", 'target': 'Maryann-Berry', 'actor': 'Ying-Mo'}]\n",
    "\n",
    "    test = pd.DataFrame(test)\n",
    "    G = nx.from_pandas_dataframe(test, 'actor', 'target', ['created_time'])\n",
    "    for i in G.edges(): \n",
    "        print i\n",
    "    G = sorted(list(G.degree().values()))\n",
    "    print G\n",
    "    return np.median(G)"
   ]
  },
  {
   "cell_type": "code",
   "execution_count": 112,
   "metadata": {
    "collapsed": false
   },
   "outputs": [],
   "source": [
    "def test4(): \n",
    "    test = [{\"created_time\": \"2016-04-07T03:33:19Z\", \"target\": \"Jamie-Korn\", \"actor\": \"Jordan-Gruber\"},\n",
    "          {\"created_time\":\"2016-04-07T03:33:19Z\", 'target': 'Jamie-Korn','actor': 'Maryann-Berry'},\n",
    "          {'created_time': \"2016-04-07T03:33:19Z\", 'target': 'Maryann-Berry', 'actor': 'Ying-Mo'}, \n",
    "          {'created_time': '2016-04-07T03:34:18Z', 'target': 'Ying-Mo', 'actor': 'Jamie-Korn'}]\n",
    "    test = pd.DataFrame(test)\n",
    "    G = nx.from_pandas_dataframe(test, 'actor', 'target', ['created_time'])\n",
    "    for i in G.edges(): \n",
    "        print i\n",
    "    G = sorted(list(G.degree().values()))\n",
    "    print G\n",
    "    return np.median(G)\n",
    "\n"
   ]
  },
  {
   "cell_type": "code",
   "execution_count": 141,
   "metadata": {
    "collapsed": false
   },
   "outputs": [
    {
     "name": "stdout",
     "output_type": "stream",
     "text": [
      "2016-03-28 23:28:12\n",
      "2016-03-28 23:29:12\n",
      "[]\n"
     ]
    },
    {
     "name": "stderr",
     "output_type": "stream",
     "text": [
      "/usr/local/lib/python2.7/site-packages/ipykernel/__main__.py:6: UserWarning: Boolean Series key will be reindexed to match DataFrame index.\n"
     ]
    },
    {
     "data": {
      "text/plain": [
       "nan"
      ]
     },
     "execution_count": 141,
     "metadata": {},
     "output_type": "execute_result"
    }
   ],
   "source": [
    "EdgeListSort(5,6)"
   ]
  },
  {
   "cell_type": "code",
   "execution_count": 131,
   "metadata": {
    "collapsed": false
   },
   "outputs": [
    {
     "name": "stdout",
     "output_type": "stream",
     "text": [
      "('Jordan-Gruber', 'Jamie-Korn')\n",
      "[1, 1]\n"
     ]
    },
    {
     "data": {
      "text/plain": [
       "1.0"
      ]
     },
     "execution_count": 131,
     "metadata": {},
     "output_type": "execute_result"
    }
   ],
   "source": [
    "test1()"
   ]
  },
  {
   "cell_type": "code",
   "execution_count": 132,
   "metadata": {
    "collapsed": false
   },
   "outputs": [
    {
     "name": "stdout",
     "output_type": "stream",
     "text": [
      "('Maryann-Berry', 'Jamie-Korn')\n",
      "('Jordan-Gruber', 'Jamie-Korn')\n",
      "[1, 1, 2]\n"
     ]
    },
    {
     "data": {
      "text/plain": [
       "1.0"
      ]
     },
     "execution_count": 132,
     "metadata": {},
     "output_type": "execute_result"
    }
   ],
   "source": [
    "test2()"
   ]
  },
  {
   "cell_type": "code",
   "execution_count": 133,
   "metadata": {
    "collapsed": false
   },
   "outputs": [
    {
     "name": "stdout",
     "output_type": "stream",
     "text": [
      "('Maryann-Berry', 'Jamie-Korn')\n",
      "('Maryann-Berry', 'Ying-Mo')\n",
      "('Jordan-Gruber', 'Jamie-Korn')\n",
      "[1, 1, 2, 2]\n"
     ]
    },
    {
     "data": {
      "text/plain": [
       "1.5"
      ]
     },
     "execution_count": 133,
     "metadata": {},
     "output_type": "execute_result"
    }
   ],
   "source": [
    "test3()"
   ]
  },
  {
   "cell_type": "code",
   "execution_count": 127,
   "metadata": {
    "collapsed": false
   },
   "outputs": [
    {
     "name": "stdout",
     "output_type": "stream",
     "text": [
      "('Maryann-Berry', 'Jamie-Korn')\n",
      "('Maryann-Berry', 'Ying-Mo')\n",
      "('Jordan-Gruber', 'Jamie-Korn')\n",
      "('Jamie-Korn', 'Ying-Mo')\n",
      "[1, 2, 2, 3]\n"
     ]
    },
    {
     "data": {
      "text/plain": [
       "2.0"
      ]
     },
     "execution_count": 127,
     "metadata": {},
     "output_type": "execute_result"
    }
   ],
   "source": [
    "test4()"
   ]
  },
  {
   "cell_type": "code",
   "execution_count": 137,
   "metadata": {
    "collapsed": false
   },
   "outputs": [
    {
     "data": {
      "text/plain": [
       "Timestamp('2016-03-28 23:33:12')"
      ]
     },
     "execution_count": 137,
     "metadata": {},
     "output_type": "execute_result"
    }
   ],
   "source": [
    "TimeStampRecursion(10)"
   ]
  },
  {
   "cell_type": "code",
   "execution_count": 138,
   "metadata": {
    "collapsed": false
   },
   "outputs": [
    {
     "data": {
      "text/plain": [
       "Timestamp('2016-03-28 23:23:12')"
      ]
     },
     "execution_count": 138,
     "metadata": {},
     "output_type": "execute_result"
    }
   ],
   "source": [
    "TimeStampRecursion(0)"
   ]
  },
  {
   "cell_type": "code",
   "execution_count": null,
   "metadata": {
    "collapsed": true
   },
   "outputs": [],
   "source": []
  },
  {
   "cell_type": "code",
   "execution_count": null,
   "metadata": {
    "collapsed": true
   },
   "outputs": [],
   "source": []
  },
  {
   "cell_type": "code",
   "execution_count": null,
   "metadata": {
    "collapsed": true
   },
   "outputs": [],
   "source": []
  },
  {
   "cell_type": "code",
   "execution_count": null,
   "metadata": {
    "collapsed": false
   },
   "outputs": [],
   "source": []
  },
  {
   "cell_type": "code",
   "execution_count": null,
   "metadata": {
    "collapsed": true
   },
   "outputs": [],
   "source": []
  },
  {
   "cell_type": "code",
   "execution_count": null,
   "metadata": {
    "collapsed": false
   },
   "outputs": [],
   "source": []
  },
  {
   "cell_type": "code",
   "execution_count": null,
   "metadata": {
    "collapsed": false
   },
   "outputs": [],
   "source": []
  },
  {
   "cell_type": "code",
   "execution_count": null,
   "metadata": {
    "collapsed": false
   },
   "outputs": [],
   "source": []
  },
  {
   "cell_type": "code",
   "execution_count": null,
   "metadata": {
    "collapsed": false
   },
   "outputs": [],
   "source": []
  },
  {
   "cell_type": "code",
   "execution_count": null,
   "metadata": {
    "collapsed": false
   },
   "outputs": [],
   "source": []
  },
  {
   "cell_type": "code",
   "execution_count": 50,
   "metadata": {
    "collapsed": false
   },
   "outputs": [],
   "source": [
    "\n",
    "  \n",
    "        \n",
    "    "
   ]
  },
  {
   "cell_type": "code",
   "execution_count": null,
   "metadata": {
    "collapsed": false
   },
   "outputs": [],
   "source": []
  },
  {
   "cell_type": "code",
   "execution_count": null,
   "metadata": {
    "collapsed": false
   },
   "outputs": [],
   "source": []
  },
  {
   "cell_type": "raw",
   "metadata": {},
   "source": []
  },
  {
   "cell_type": "code",
   "execution_count": null,
   "metadata": {
    "collapsed": false
   },
   "outputs": [],
   "source": []
  },
  {
   "cell_type": "code",
   "execution_count": null,
   "metadata": {
    "collapsed": false
   },
   "outputs": [],
   "source": []
  },
  {
   "cell_type": "code",
   "execution_count": null,
   "metadata": {
    "collapsed": false
   },
   "outputs": [],
   "source": []
  },
  {
   "cell_type": "code",
   "execution_count": null,
   "metadata": {
    "collapsed": false
   },
   "outputs": [],
   "source": []
  },
  {
   "cell_type": "code",
   "execution_count": null,
   "metadata": {
    "collapsed": true
   },
   "outputs": [],
   "source": []
  },
  {
   "cell_type": "code",
   "execution_count": 290,
   "metadata": {
    "collapsed": false
   },
   "outputs": [],
   "source": []
  },
  {
   "cell_type": "code",
   "execution_count": null,
   "metadata": {
    "collapsed": true
   },
   "outputs": [],
   "source": []
  },
  {
   "cell_type": "code",
   "execution_count": null,
   "metadata": {
    "collapsed": false
   },
   "outputs": [],
   "source": []
  },
  {
   "cell_type": "code",
   "execution_count": null,
   "metadata": {
    "collapsed": false
   },
   "outputs": [],
   "source": []
  },
  {
   "cell_type": "code",
   "execution_count": null,
   "metadata": {
    "collapsed": false
   },
   "outputs": [],
   "source": []
  },
  {
   "cell_type": "code",
   "execution_count": null,
   "metadata": {
    "collapsed": false
   },
   "outputs": [],
   "source": []
  },
  {
   "cell_type": "code",
   "execution_count": null,
   "metadata": {
    "collapsed": false
   },
   "outputs": [],
   "source": []
  },
  {
   "cell_type": "code",
   "execution_count": null,
   "metadata": {
    "collapsed": false
   },
   "outputs": [],
   "source": []
  },
  {
   "cell_type": "code",
   "execution_count": null,
   "metadata": {
    "collapsed": false
   },
   "outputs": [],
   "source": []
  },
  {
   "cell_type": "code",
   "execution_count": null,
   "metadata": {
    "collapsed": false
   },
   "outputs": [],
   "source": []
  },
  {
   "cell_type": "code",
   "execution_count": null,
   "metadata": {
    "collapsed": false
   },
   "outputs": [],
   "source": []
  },
  {
   "cell_type": "code",
   "execution_count": null,
   "metadata": {
    "collapsed": false
   },
   "outputs": [],
   "source": []
  },
  {
   "cell_type": "code",
   "execution_count": null,
   "metadata": {
    "collapsed": false,
    "scrolled": true
   },
   "outputs": [],
   "source": []
  },
  {
   "cell_type": "code",
   "execution_count": null,
   "metadata": {
    "collapsed": false
   },
   "outputs": [],
   "source": []
  },
  {
   "cell_type": "code",
   "execution_count": null,
   "metadata": {
    "collapsed": false
   },
   "outputs": [],
   "source": []
  },
  {
   "cell_type": "code",
   "execution_count": null,
   "metadata": {
    "collapsed": false
   },
   "outputs": [],
   "source": []
  },
  {
   "cell_type": "code",
   "execution_count": null,
   "metadata": {
    "collapsed": false
   },
   "outputs": [],
   "source": []
  },
  {
   "cell_type": "code",
   "execution_count": null,
   "metadata": {
    "collapsed": false
   },
   "outputs": [],
   "source": [
    "\n"
   ]
  },
  {
   "cell_type": "code",
   "execution_count": null,
   "metadata": {
    "collapsed": false
   },
   "outputs": [],
   "source": []
  },
  {
   "cell_type": "code",
   "execution_count": null,
   "metadata": {
    "collapsed": false
   },
   "outputs": [],
   "source": []
  },
  {
   "cell_type": "code",
   "execution_count": null,
   "metadata": {
    "collapsed": false
   },
   "outputs": [],
   "source": []
  },
  {
   "cell_type": "code",
   "execution_count": null,
   "metadata": {
    "collapsed": false
   },
   "outputs": [],
   "source": []
  },
  {
   "cell_type": "code",
   "execution_count": null,
   "metadata": {
    "collapsed": false
   },
   "outputs": [],
   "source": []
  },
  {
   "cell_type": "code",
   "execution_count": null,
   "metadata": {
    "collapsed": false
   },
   "outputs": [],
   "source": []
  },
  {
   "cell_type": "code",
   "execution_count": null,
   "metadata": {
    "collapsed": false
   },
   "outputs": [],
   "source": []
  },
  {
   "cell_type": "code",
   "execution_count": null,
   "metadata": {
    "collapsed": false
   },
   "outputs": [],
   "source": []
  },
  {
   "cell_type": "code",
   "execution_count": null,
   "metadata": {
    "collapsed": false
   },
   "outputs": [],
   "source": []
  },
  {
   "cell_type": "code",
   "execution_count": null,
   "metadata": {
    "collapsed": false
   },
   "outputs": [],
   "source": []
  },
  {
   "cell_type": "code",
   "execution_count": null,
   "metadata": {
    "collapsed": false
   },
   "outputs": [],
   "source": []
  },
  {
   "cell_type": "code",
   "execution_count": null,
   "metadata": {
    "collapsed": false
   },
   "outputs": [],
   "source": []
  },
  {
   "cell_type": "code",
   "execution_count": 106,
   "metadata": {
    "collapsed": false
   },
   "outputs": [],
   "source": []
  },
  {
   "cell_type": "code",
   "execution_count": null,
   "metadata": {
    "collapsed": false
   },
   "outputs": [],
   "source": []
  },
  {
   "cell_type": "code",
   "execution_count": null,
   "metadata": {
    "collapsed": true
   },
   "outputs": [],
   "source": []
  },
  {
   "cell_type": "code",
   "execution_count": null,
   "metadata": {
    "collapsed": false
   },
   "outputs": [],
   "source": []
  },
  {
   "cell_type": "code",
   "execution_count": null,
   "metadata": {
    "collapsed": false
   },
   "outputs": [],
   "source": []
  },
  {
   "cell_type": "code",
   "execution_count": null,
   "metadata": {
    "collapsed": false
   },
   "outputs": [],
   "source": []
  },
  {
   "cell_type": "code",
   "execution_count": null,
   "metadata": {
    "collapsed": false
   },
   "outputs": [],
   "source": []
  },
  {
   "cell_type": "code",
   "execution_count": null,
   "metadata": {
    "collapsed": false
   },
   "outputs": [],
   "source": []
  },
  {
   "cell_type": "code",
   "execution_count": null,
   "metadata": {
    "collapsed": false
   },
   "outputs": [],
   "source": []
  },
  {
   "cell_type": "code",
   "execution_count": null,
   "metadata": {
    "collapsed": false
   },
   "outputs": [],
   "source": []
  },
  {
   "cell_type": "code",
   "execution_count": null,
   "metadata": {
    "collapsed": false
   },
   "outputs": [],
   "source": []
  },
  {
   "cell_type": "code",
   "execution_count": null,
   "metadata": {
    "collapsed": true
   },
   "outputs": [],
   "source": []
  },
  {
   "cell_type": "code",
   "execution_count": null,
   "metadata": {
    "collapsed": false
   },
   "outputs": [],
   "source": []
  },
  {
   "cell_type": "code",
   "execution_count": null,
   "metadata": {
    "collapsed": true
   },
   "outputs": [],
   "source": []
  },
  {
   "cell_type": "code",
   "execution_count": null,
   "metadata": {
    "collapsed": false
   },
   "outputs": [],
   "source": []
  },
  {
   "cell_type": "code",
   "execution_count": null,
   "metadata": {
    "collapsed": true
   },
   "outputs": [],
   "source": [
    "\n"
   ]
  },
  {
   "cell_type": "code",
   "execution_count": null,
   "metadata": {
    "collapsed": false
   },
   "outputs": [],
   "source": []
  },
  {
   "cell_type": "code",
   "execution_count": null,
   "metadata": {
    "collapsed": true
   },
   "outputs": [],
   "source": []
  }
 ],
 "metadata": {
  "kernelspec": {
   "display_name": "Python 2",
   "language": "python",
   "name": "python2"
  },
  "language_info": {
   "codemirror_mode": {
    "name": "ipython",
    "version": 2
   },
   "file_extension": ".py",
   "mimetype": "text/x-python",
   "name": "python",
   "nbconvert_exporter": "python",
   "pygments_lexer": "ipython2",
   "version": "2.7.11"
  }
 },
 "nbformat": 4,
 "nbformat_minor": 0
}
